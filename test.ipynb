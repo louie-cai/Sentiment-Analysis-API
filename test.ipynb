{
 "cells": [
  {
   "cell_type": "code",
   "execution_count": 1,
   "metadata": {
    "collapsed": true,
    "pycharm": {
     "name": "#%%\n"
    }
   },
   "outputs": [],
   "source": [
    "import numpy as np\n",
    "import torchtext.legacy.data as data\n",
    "import pandas as pd\n",
    "import torch\n",
    "import torch.nn as nn\n",
    "import torchtext\n",
    "import spacy\n",
    "import os\n",
    "import preprocess\n",
    "from model_utils import *\n",
    "\n",
    "torch.manual_seed(42)\n",
    "if torch.cuda.is_available():\n",
    "    torch.cuda.manual_seed_all(42)\n",
    "np.random.seed(42)"
   ]
  },
  {
   "cell_type": "code",
   "execution_count": 2,
   "outputs": [],
   "source": [
    "model_path = \"Namespace(random_seed=42, batch_size=128, epochs=50, model='lstm', lr=0.001, dropout=0, bidirectional=False, num_layers=1, embedding_size=128, hidden_size=128, vocab_size=10000, weight_decay=0.0, early_stop=True, eval=True, save_model=True)\"\n",
    "\n",
    "args = eval(model_path)\n",
    "path = open(os.path.join(os.getcwd(), 'models', model_path, 'path.txt'), 'r').readline()\n",
    "device = torch.device('cuda' if torch.cuda.is_available() else 'cpu')\n",
    "train_dataset, valid_dataset, text_field, label_field = preprocess.get_datasets(path, args.vocab_size)\n",
    "train_loader, valid_loader = preprocess.get_dataloaders(train_dataset, valid_dataset, args.batch_size, device)\n",
    "model = get_model(args.model)(len(text_field.vocab), args.embedding_size, args.hidden_size, len(label_field.vocab),\n",
    "                              args.num_layers, args.dropout, args.bidirectional).to(device)"
   ],
   "metadata": {
    "collapsed": false,
    "pycharm": {
     "name": "#%%\n"
    }
   }
  },
  {
   "cell_type": "code",
   "execution_count": 3,
   "outputs": [
    {
     "data": {
      "text/plain": "LSTM(\n  (embedding): Embedding(10002, 128)\n  (lstm): LSTM(128, 128)\n  (fc): Linear(in_features=128, out_features=2, bias=True)\n)"
     },
     "execution_count": 3,
     "metadata": {},
     "output_type": "execute_result"
    }
   ],
   "source": [
    "model = torch.load(\"models/Namespace(random_seed=42, batch_size=128, epochs=50, model='lstm', lr=0.001, dropout=0, bidirectional=False, num_layers=1, embedding_size=128, hidden_size=128, vocab_size=10000, weight_decay=0.0, early_stop=True, eval=True, save_model=True)/model.pt\")\n",
    "model"
   ],
   "metadata": {
    "collapsed": false,
    "pycharm": {
     "name": "#%%\n"
    }
   }
  },
  {
   "cell_type": "code",
   "execution_count": 4,
   "outputs": [
    {
     "data": {
      "text/plain": "LSTM(\n  (embedding): Embedding(10002, 128)\n  (lstm): LSTM(128, 128)\n  (fc): Linear(in_features=128, out_features=2, bias=True)\n)"
     },
     "execution_count": 4,
     "metadata": {},
     "output_type": "execute_result"
    }
   ],
   "source": [
    "model.eval()"
   ],
   "metadata": {
    "collapsed": false,
    "pycharm": {
     "name": "#%%\n"
    }
   }
  },
  {
   "cell_type": "code",
   "execution_count": 7,
   "outputs": [
    {
     "data": {
      "text/plain": "('positive',\n tensor([[0.0581, 0.9419]], device='cuda:0', grad_fn=<SoftmaxBackward0>))"
     },
     "execution_count": 7,
     "metadata": {},
     "output_type": "execute_result"
    }
   ],
   "source": [
    "model_predict(model, \"I will visit this place again. Really good.\", device, text_field)"
   ],
   "metadata": {
    "collapsed": false,
    "pycharm": {
     "name": "#%%\n"
    }
   }
  },
  {
   "cell_type": "code",
   "execution_count": 5,
   "outputs": [],
   "source": [],
   "metadata": {
    "collapsed": false,
    "pycharm": {
     "name": "#%%\n"
    }
   }
  }
 ],
 "metadata": {
  "kernelspec": {
   "display_name": "Python 3",
   "language": "python",
   "name": "python3"
  },
  "language_info": {
   "codemirror_mode": {
    "name": "ipython",
    "version": 2
   },
   "file_extension": ".py",
   "mimetype": "text/x-python",
   "name": "python",
   "nbconvert_exporter": "python",
   "pygments_lexer": "ipython2",
   "version": "2.7.6"
  }
 },
 "nbformat": 4,
 "nbformat_minor": 0
}